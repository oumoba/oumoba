{
 "cells": [
  {
   "cell_type": "markdown",
   "id": "6b6a4860",
   "metadata": {},
   "source": [
    "# Projet: Analyse Matricielle"
   ]
  },
  {
   "cell_type": "code",
   "execution_count": 4,
   "id": "3bdbf2a7",
   "metadata": {},
   "outputs": [],
   "source": [
    "import numpy as np\n",
    "import scipy.linalg as lg\n",
    "from time import time\n",
    "import matplotlib.pyplot as plt\n",
    "import scipy.linalg as sc"
   ]
  },
  {
   "cell_type": "markdown",
   "id": "d74fb048",
   "metadata": {},
   "source": [
    "# Question 3"
   ]
  },
  {
   "cell_type": "code",
   "execution_count": 29,
   "id": "6dc21242",
   "metadata": {},
   "outputs": [
    {
     "data": {
      "text/plain": [
       "array([[1. , 0.5, 0.2, 0.1],\n",
       "       [0.5, 1. , 0.5, 0.2],\n",
       "       [0.2, 0.5, 1. , 0.5],\n",
       "       [0.1, 0.2, 0.5, 1. ]])"
      ]
     },
     "execution_count": 29,
     "metadata": {},
     "output_type": "execute_result"
    }
   ],
   "source": [
    "#1\n",
    "def MatriceA(n,tau):\n",
    "    #tau=d/r0\n",
    "    A=np.eye(n)\n",
    "    for i in range(n):\n",
    "        for j in range(n):\n",
    "            A[i, j] = 1 / (1 + tau**2 * (i - j)**2) # V(d)=1/(1+tau^2) la formule (1)\n",
    "    return A\n",
    "n,tau=4,1           \n",
    "A=MatriceA(n,tau);A\n"
   ]
  },
  {
   "cell_type": "code",
   "execution_count": 71,
   "id": "c09ec2e8",
   "metadata": {},
   "outputs": [
    {
     "data": {
      "text/plain": [
       "array([[1.],\n",
       "       [1.],\n",
       "       [1.],\n",
       "       [1.]])"
      ]
     },
     "execution_count": 71,
     "metadata": {},
     "output_type": "execute_result"
    }
   ],
   "source": [
    "#2\n",
    "n,tau=4,1           \n",
    "A=MatriceA(n,tau);A\n",
    "Pi=np.reshape(np.ones(n),(n,1));Pi\n"
   ]
  },
  {
   "cell_type": "code",
   "execution_count": 72,
   "id": "bc9f5ef8",
   "metadata": {},
   "outputs": [
    {
     "data": {
      "text/plain": [
       "array([[0.525],\n",
       "       [0.55 ],\n",
       "       [0.5  ],\n",
       "       [1.   ]])"
      ]
     },
     "execution_count": 72,
     "metadata": {},
     "output_type": "execute_result"
    }
   ],
   "source": [
    "def remontee(A,b):\n",
    "    n,m=np.shape(A)\n",
    "    n=len(b)\n",
    "    x=b.copy()\n",
    "   \n",
    "    for i in range(n-1,-1,-1):\n",
    "        for k in range(i+1,n):\n",
    "            x[i]=x[i]-(np.dot(A[i,k],x[k]))\n",
    "        x[i]=x[i]/A[i,i]\n",
    "    return x\n",
    "remontee(A, Pi)"
   ]
  },
  {
   "cell_type": "code",
   "execution_count": 10,
   "id": "73447d4b",
   "metadata": {},
   "outputs": [
    {
     "data": {
      "text/plain": [
       "array([[1.   ],\n",
       "       [0.5  ],\n",
       "       [0.55 ],\n",
       "       [0.525]])"
      ]
     },
     "execution_count": 10,
     "metadata": {},
     "output_type": "execute_result"
    }
   ],
   "source": [
    "def descente(A,b):\n",
    "    n,m=np.shape(A)\n",
    "    n=len(b)\n",
    "    x=b.copy()\n",
    "    for i in range(0,n):\n",
    "        for k in range(0,i):\n",
    "            x[i]=x[i]-(np.dot(A[i,k],x[k]))\n",
    "        x[i]=x[i]/A[i,i]\n",
    "    return x\n",
    "\n",
    "descente(A,Phi)"
   ]
  },
  {
   "cell_type": "code",
   "execution_count": 73,
   "id": "95f90821",
   "metadata": {},
   "outputs": [
    {
     "data": {
      "text/plain": [
       "array([[1.        ],\n",
       "       [1.33333333],\n",
       "       [1.33928571],\n",
       "       [1.34099617]])"
      ]
     },
     "execution_count": 73,
     "metadata": {},
     "output_type": "execute_result"
    }
   ],
   "source": [
    "def solutionLU(A,b):\n",
    "    I,L,U=lg.lu(A)\n",
    "    y=remontee(L, b)\n",
    "    x=descente(U, y)\n",
    "    return x\n",
    "solutionLU(A,Pi)"
   ]
  },
  {
   "cell_type": "raw",
   "id": "9454c952",
   "metadata": {},
   "source": [
    "#3  Le nombre d'operation est de 2n**3/3\n"
   ]
  },
  {
   "cell_type": "markdown",
   "id": "379c91e2",
   "metadata": {},
   "source": [
    "# Question 4"
   ]
  },
  {
   "cell_type": "code",
   "execution_count": 53,
   "id": "bb0eac2b",
   "metadata": {},
   "outputs": [],
   "source": [
    "def toeplitz(t):\n",
    "    \"\"\"\n",
    "    Crée une matrice de Toeplitz symétrique à partir des coefficients de t.\n",
    "    \"\"\"\n",
    "    n=len(t)\n",
    "    T=np.zeros((n,n))\n",
    "    #return T\n",
    "    for i in range(n):\n",
    "        for j in range(i,n):\n",
    "            T[i,j]=t[j-i]\n",
    "            T[j,i]=t[j-i]\n",
    "           \n",
    "            \n",
    "            \n",
    "    return T\n",
    "    \n"
   ]
  },
  {
   "cell_type": "code",
   "execution_count": 54,
   "id": "8e5ed444",
   "metadata": {},
   "outputs": [
    {
     "data": {
      "text/plain": [
       "array([[1., 2., 3., 4., 5.],\n",
       "       [2., 1., 2., 3., 4.],\n",
       "       [3., 2., 1., 2., 3.],\n",
       "       [4., 3., 2., 1., 2.],\n",
       "       [5., 4., 3., 2., 1.]])"
      ]
     },
     "execution_count": 54,
     "metadata": {},
     "output_type": "execute_result"
    }
   ],
   "source": [
    "# Exemple d'utilisation avec des coefficients t\n",
    "t=[1,2,3,4,5]\n",
    "toeplitz(t)"
   ]
  },
  {
   "cell_type": "code",
   "execution_count": 68,
   "id": "29bff658",
   "metadata": {},
   "outputs": [],
   "source": [
    "def Etape1(t):\n",
    "    \"\"\"\n",
    "    Effectue la première étape de l'algorithme décrit, en utilisant le vecteur t\n",
    "    pour générer la suite des vecteurs (f1, ..., fn).\n",
    "    \"\"\"\n",
    "    n=len(t)\n",
    "    f=[]\n",
    "    # Initialisation de f1\n",
    "    f1 = np.array([1 / t[0]])\n",
    "    \n",
    "    # Calcul de f2 à fn\n",
    "    for k in range(2, n + 1):\n",
    "        Tk = np.zeros((k, k))\n",
    "        # Construction de la matrice Tk-1\n",
    "        for i in range(k):\n",
    "            for j in range(k):\n",
    "                Tk[i, j] = t[i - j]\n",
    "                # Calcul de Sk-1 f_{k-1}\n",
    "        Sk_1_fk_1 = np.concatenate(([f1[-1]], f1[:-1]))\n",
    "         # Calcul de fk\n",
    "        fk = lg.solve(Tk, Sk_1_fk_1)\n",
    "        f.append(fk)\n",
    "                \n",
    "        return f"
   ]
  },
  {
   "cell_type": "code",
   "execution_count": null,
   "id": "9ab3f54c",
   "metadata": {},
   "outputs": [],
   "source": []
  },
  {
   "cell_type": "code",
   "execution_count": null,
   "id": "58a41b70",
   "metadata": {},
   "outputs": [],
   "source": []
  },
  {
   "cell_type": "code",
   "execution_count": null,
   "id": "646014b3",
   "metadata": {},
   "outputs": [],
   "source": []
  }
 ],
 "metadata": {
  "kernelspec": {
   "display_name": "Python 3 (ipykernel)",
   "language": "python",
   "name": "python3"
  },
  "language_info": {
   "codemirror_mode": {
    "name": "ipython",
    "version": 3
   },
   "file_extension": ".py",
   "mimetype": "text/x-python",
   "name": "python",
   "nbconvert_exporter": "python",
   "pygments_lexer": "ipython3",
   "version": "3.9.13"
  }
 },
 "nbformat": 4,
 "nbformat_minor": 5
}
